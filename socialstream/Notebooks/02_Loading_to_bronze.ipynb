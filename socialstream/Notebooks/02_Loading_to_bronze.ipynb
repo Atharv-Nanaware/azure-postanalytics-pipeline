{
 "cells": [
  {
   "cell_type": "code",
   "execution_count": 0,
   "metadata": {
    "application/vnd.databricks.v1+cell": {
     "cellMetadata": {
      "byteLimit": 2048000,
      "rowLimit": 10000
     },
     "inputWidgets": {},
     "nuid": "59225993-fcce-433c-8d5e-0eb2856f44e5",
     "showTitle": false,
     "tableResultSettingsMap": {},
     "title": ""
    }
   },
   "outputs": [],
   "source": [
    "checkpoint = spark.sql(\"describe external location `dev-checkpoints`\").select(\"url\").collect()[0][0]\n",
    "landing = spark.sql(\"describe external location `dev-landing`\").select(\"url\").collect()[0][0]\n",
    "bronze = spark.sql(\"describe external location `dev-bronze`\").select(\"url\").collect()[0][0]\n",
    "silver = spark.sql(\"describe external location `dev-silver`\").select(\"url\").collect()[0][0]\n",
    "gold = spark.sql(\"describe external location `dev-gold`\").select(\"url\").collect()[0][0]"
   ]
  },
  {
   "cell_type": "code",
   "execution_count": 0,
   "metadata": {
    "application/vnd.databricks.v1+cell": {
     "cellMetadata": {
      "byteLimit": 2048000,
      "rowLimit": 10000
     },
     "inputWidgets": {},
     "nuid": "fc1cb18a-a64f-438e-87f9-d1e148174b2d",
     "showTitle": false,
     "tableResultSettingsMap": {},
     "title": ""
    }
   },
   "outputs": [],
   "source": [
    "print(landing)\n",
    "print(bronze)\n",
    "print(silver)\n",
    "print(gold)\n",
    "print(checkpoint)"
   ]
  },
  {
   "cell_type": "code",
   "execution_count": 0,
   "metadata": {
    "application/vnd.databricks.v1+cell": {
     "cellMetadata": {
      "byteLimit": 2048000,
      "rowLimit": 10000
     },
     "inputWidgets": {},
     "nuid": "90c38b5f-d7d3-4ad2-a517-dc099cc89efd",
     "showTitle": false,
     "tableResultSettingsMap": {},
     "title": ""
    }
   },
   "outputs": [],
   "source": [
    "dbutils.widgets.text(name=\"env\",defaultValue='',label='Enter the environment name :')\n",
    "env = dbutils.widgets.get(\"env\")"
   ]
  },
  {
   "cell_type": "code",
   "execution_count": 0,
   "metadata": {
    "application/vnd.databricks.v1+cell": {
     "cellMetadata": {
      "byteLimit": 2048000,
      "rowLimit": 10000
     },
     "inputWidgets": {},
     "nuid": "50355fb5-b39c-4fc4-8fe6-a15f4c526cf7",
     "showTitle": false,
     "tableResultSettingsMap": {},
     "title": ""
    }
   },
   "outputs": [],
   "source": [
    "from pyspark.sql.types import StructType, StructField, StringType, IntegerType, DoubleType, TimestampType\n",
    "from pyspark.sql.functions import col, lit, current_timestamp, to_timestamp\n",
    "\n",
    "def read_redditPosts_table(spark, landing):\n",
    "    print(\"Reading redditPosts table...\")\n",
    "\n",
    "    # Schema\n",
    "    schema = StructType([\n",
    "        StructField(\"id\", StringType(), True),\n",
    "        StructField(\"subreddit\", StringType(), True),\n",
    "        StructField(\"title\", StringType(), True),  \n",
    "        StructField(\"score\", IntegerType(), True),\n",
    "        StructField(\"num_comments\", IntegerType(), True),  \n",
    "        StructField(\"author\", StringType(), True),\n",
    "        StructField(\"created_utc\", StringType(), True),  \n",
    "        StructField(\"upvote_ratio\", DoubleType(), True),  \n",
    "    ])\n",
    "\n",
    "    # Read Batch Data\n",
    "    df = (\n",
    "        spark.read.format(\"csv\")\n",
    "        .schema(schema)\n",
    "        .option(\"header\", \"true\")\n",
    "        .load(landing)\n",
    "        .withColumn(\"Extract_Time\", current_timestamp())  \n",
    "        \n",
    "    )\n",
    "\n",
    "    print(\"Reading redditPosts table completed.\")\n",
    "\n",
    "    return df  \n"
   ]
  },
  {
   "cell_type": "code",
   "execution_count": 0,
   "metadata": {
    "application/vnd.databricks.v1+cell": {
     "cellMetadata": {
      "byteLimit": 2048000,
      "rowLimit": 10000
     },
     "inputWidgets": {},
     "nuid": "20c71cdc-2c1a-439c-ab46-614d139d51b2",
     "showTitle": false,
     "tableResultSettingsMap": {},
     "title": ""
    }
   },
   "outputs": [],
   "source": [
    "def write_redditPosts_table(df,environment):\n",
    "    print(\"writing redditPosts table\")\n",
    "\n",
    "    (df.write\n",
    "      .format(\"delta\")\n",
    "      .mode(\"append\")\n",
    "      .option(\"mergeSchema\", \"true\")\n",
    "      .saveAsTable(f\"`{environment}_catalog`.`bronze`.`raw_redditPosts`\"))\n",
    "    \n",
    "\n",
    "    print(\"writing redditPosts table completed\")"
   ]
  },
  {
   "cell_type": "code",
   "execution_count": 0,
   "metadata": {
    "application/vnd.databricks.v1+cell": {
     "cellMetadata": {
      "byteLimit": 2048000,
      "rowLimit": 10000
     },
     "inputWidgets": {},
     "nuid": "8111a0af-9ac0-4809-a07f-770d1282ff71",
     "showTitle": false,
     "tableResultSettingsMap": {},
     "title": ""
    }
   },
   "outputs": [],
   "source": [
    "read_posts=read_redditPosts_table(spark,landing)\n",
    "write_redditPosts_table(read_posts,env)"
   ]
  },
  {
   "cell_type": "code",
   "execution_count": 0,
   "metadata": {
    "application/vnd.databricks.v1+cell": {
     "cellMetadata": {
      "byteLimit": 2048000,
      "implicitDf": true,
      "rowLimit": 10000
     },
     "inputWidgets": {},
     "nuid": "d6fedaf0-f775-4d1c-be51-3bc61c2947ed",
     "showTitle": false,
     "tableResultSettingsMap": {},
     "title": ""
    }
   },
   "outputs": [],
   "source": [
    "\n",
    "\n",
    "df = spark.sql(f\"SELECT COUNT(*) FROM {env}_catalog.bronze.raw_redditPosts\")\n",
    "df.show()"
   ]
  }
 ],
 "metadata": {
  "application/vnd.databricks.v1+notebook": {
   "computePreferences": null,
   "dashboards": [],
   "environmentMetadata": {
    "base_environment": "",
    "environment_version": "2"
   },
   "language": "python",
   "notebookMetadata": {
    "mostRecentlyExecutedCommandWithImplicitDF": {
     "commandId": -1,
     "dataframes": [
      "_sqldf"
     ]
    },
    "pythonIndentUnit": 4
   },
   "notebookName": "02_Loading_to_bronze",
   "widgets": {
    "env": {
     "currentValue": "dev",
     "nuid": "9dc0d680-2b18-4e2a-a832-dd1e6d2feb6b",
     "typedWidgetInfo": {
      "autoCreated": false,
      "defaultValue": "",
      "label": "Enter the environment name :",
      "name": "env",
      "options": {
       "widgetDisplayType": "Text",
       "validationRegex": null
      },
      "parameterDataType": "String"
     },
     "widgetInfo": {
      "widgetType": "text",
      "defaultValue": "",
      "label": "Enter the environment name :",
      "name": "env",
      "options": {
       "widgetType": "text",
       "autoCreated": null,
       "validationRegex": null
      }
     }
    }
   }
  },
  "language_info": {
   "name": "python"
  }
 },
 "nbformat": 4,
 "nbformat_minor": 0
}
