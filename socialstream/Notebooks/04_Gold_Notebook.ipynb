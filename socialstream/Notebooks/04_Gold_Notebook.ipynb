{
 "cells": [
  {
   "cell_type": "code",
   "execution_count": 0,
   "metadata": {
    "application/vnd.databricks.v1+cell": {
     "cellMetadata": {
      "byteLimit": 2048000,
      "rowLimit": 10000
     },
     "inputWidgets": {},
     "nuid": "653b57cd-edaa-4c8c-989b-392f31f09945",
     "showTitle": false,
     "tableResultSettingsMap": {},
     "title": ""
    }
   },
   "outputs": [],
   "source": [
    "# 1️ Load External Locations (Using Unity Catalog)\n",
    "checkpoint = spark.sql(\"describe external location `dev-checkpoints`\").select(\"url\").collect()[0][0]\n",
    "landing = spark.sql(\"describe external location `dev-landing`\").select(\"url\").collect()[0][0]\n",
    "bronze = spark.sql(\"describe external location `dev-bronze`\").select(\"url\").collect()[0][0]\n",
    "silver = spark.sql(\"describe external location `dev-silver`\").select(\"url\").collect()[0][0]\n",
    "gold = spark.sql(\"describe external location `dev-gold`\").select(\"url\").collect()[0][0]"
   ]
  },
  {
   "cell_type": "code",
   "execution_count": 0,
   "metadata": {
    "application/vnd.databricks.v1+cell": {
     "cellMetadata": {
      "byteLimit": 2048000,
      "rowLimit": 10000
     },
     "inputWidgets": {},
     "nuid": "a38fcc54-d9ed-4b2d-8665-0f157dfa915d",
     "showTitle": false,
     "tableResultSettingsMap": {},
     "title": ""
    }
   },
   "outputs": [],
   "source": [
    "# Read Environment Variable for Unity Catalog\n",
    "dbutils.widgets.text(name=\"env\", defaultValue='', label='Enter the environment in lower case')\n",
    "env = dbutils.widgets.get(\"env\")\n",
    "\n"
   ]
  },
  {
   "cell_type": "code",
   "execution_count": 0,
   "metadata": {
    "application/vnd.databricks.v1+cell": {
     "cellMetadata": {
      "byteLimit": 2048000,
      "rowLimit": 10000
     },
     "inputWidgets": {},
     "nuid": "944b5b57-6348-482e-9ce8-929bdf9fafcc",
     "showTitle": false,
     "tableResultSettingsMap": {},
     "title": ""
    }
   },
   "outputs": [],
   "source": [
    "# Define catalog and schemas\n",
    "catalog_name = f\"{env}_catalog\"\n",
    "silver_schema = \"silver\"\n",
    "gold_schema = \"gold\"\n",
    "gold_table_name = \"reddit_gold\"  "
   ]
  },
  {
   "cell_type": "code",
   "execution_count": 0,
   "metadata": {
    "application/vnd.databricks.v1+cell": {
     "cellMetadata": {
      "byteLimit": 2048000,
      "rowLimit": 10000
     },
     "inputWidgets": {},
     "nuid": "a64af5c1-bdda-480d-93f8-9edd18b8d94c",
     "showTitle": false,
     "tableResultSettingsMap": {},
     "title": ""
    }
   },
   "outputs": [],
   "source": [
    "from pyspark.sql.functions import avg, count\n",
    "\n",
    "#  Read Silver Table in Batch Mode\n",
    "def read_silver_table(environment, table_name):\n",
    "\n",
    "    table_path = f\"`{environment}_catalog`.`silver`.`{table_name}`\"\n",
    "    print(f' Reading {table_path} (Batch Mode)...')\n",
    "    df_silver = spark.read.table(table_path)\n",
    "    print(f' Read {table_path} Success!')\n",
    "    return df_silver\n",
    "\n",
    "df_silver = read_silver_table(env, \"cleaned_redditposts\")\n",
    "\n",
    "\n",
    "df_gold = df_silver.dropDuplicates().na.fill({\"title\": \"Unknown\", \"author\": \"Anonymous\"})\n",
    "print(\" Data Cleaning Done\")\n",
    "\n",
    "\n",
    "\n"
   ]
  },
  {
   "cell_type": "code",
   "execution_count": 0,
   "metadata": {
    "application/vnd.databricks.v1+cell": {
     "cellMetadata": {
      "byteLimit": 2048000,
      "rowLimit": 10000
     },
     "inputWidgets": {},
     "nuid": "2524ce77-88af-4107-b4c4-81386cd62e87",
     "showTitle": false,
     "tableResultSettingsMap": {},
     "title": ""
    }
   },
   "outputs": [],
   "source": [
    "# Aggregate Sentiment\n",
    "df_subreddit_sentiment = df_gold.groupBy(\"subreddit\").agg(\n",
    "    avg(\"positive_score\").alias(\"avg_positive\"),\n",
    "    avg(\"neutral_score\").alias(\"avg_neutral\"),\n",
    "    avg(\"negative_score\").alias(\"avg_negative\"),\n",
    "    count(\"id\").alias(\"post_count\")\n",
    ")\n",
    "print(\" Aggregated Sentiment by Subreddit\")\n",
    "\n",
    "df_author_sentiment = df_gold.groupBy(\"author\").agg(\n",
    "    avg(\"compound_score\").alias(\"avg_compound_score\"),\n",
    "    count(\"id\").alias(\"total_posts\")\n",
    ")\n",
    "print(\" Aggregated Sentiment by Author\")"
   ]
  },
  {
   "cell_type": "code",
   "execution_count": 0,
   "metadata": {
    "application/vnd.databricks.v1+cell": {
     "cellMetadata": {
      "byteLimit": 2048000,
      "rowLimit": 10000
     },
     "inputWidgets": {},
     "nuid": "a72d4f1b-0bf1-4470-bdaf-33e06632ac17",
     "showTitle": false,
     "tableResultSettingsMap": {},
     "title": ""
    }
   },
   "outputs": [],
   "source": [
    "# Write Gold Table to Unity Catalog\n",
    "gold_table_path = f\"`{env}_catalog`.`gold`.`{gold_table_name}`\"\n",
    "df_gold.write.mode(\"overwrite\").format(\"delta\").saveAsTable(gold_table_path)\n",
    "\n",
    "print(f'Gold Table Saved: {gold_table_path}')\n",
    "print(\"Gold Processing Completed!\")\n"
   ]
  },
  {
   "cell_type": "code",
   "execution_count": 0,
   "metadata": {
    "application/vnd.databricks.v1+cell": {
     "cellMetadata": {
      "byteLimit": 2048000,
      "implicitDf": true,
      "rowLimit": 10000
     },
     "inputWidgets": {},
     "nuid": "7f8caf77-bfd8-4ddb-ac8c-2678b8c6e979",
     "showTitle": false,
     "tableResultSettingsMap": {},
     "title": ""
    }
   },
   "outputs": [],
   "source": [
    "%sql\n",
    "select * from dev_catalog.gold.reddit_gold"
   ]
  },
  {
   "cell_type": "code",
   "execution_count": 0,
   "metadata": {
    "application/vnd.databricks.v1+cell": {
     "cellMetadata": {
      "byteLimit": 2048000,
      "implicitDf": true,
      "rowLimit": 10000
     },
     "inputWidgets": {},
     "nuid": "7d6c93a6-84db-4e86-a363-8d81ac6eecdd",
     "showTitle": false,
     "tableResultSettingsMap": {},
     "title": ""
    }
   },
   "outputs": [],
   "source": [
    "%sql\n",
    "select count(*) from dev_catalog.gold.reddit_gold"
   ]
  },
  {
   "cell_type": "code",
   "execution_count": 0,
   "metadata": {
    "application/vnd.databricks.v1+cell": {
     "cellMetadata": {
      "byteLimit": 2048000,
      "rowLimit": 10000
     },
     "inputWidgets": {},
     "nuid": "3e8c1871-c1ca-416d-bbce-f749ca14997c",
     "showTitle": false,
     "tableResultSettingsMap": {},
     "title": ""
    }
   },
   "outputs": [],
   "source": []
  }
 ],
 "metadata": {
  "application/vnd.databricks.v1+notebook": {
   "computePreferences": null,
   "dashboards": [],
   "environmentMetadata": {
    "base_environment": "",
    "environment_version": "2"
   },
   "language": "python",
   "notebookMetadata": {
    "mostRecentlyExecutedCommandWithImplicitDF": {
     "commandId": 34586394123183,
     "dataframes": [
      "_sqldf"
     ]
    },
    "pythonIndentUnit": 4
   },
   "notebookName": "04_Gold_Notebook",
   "widgets": {
    "env": {
     "currentValue": "dev",
     "nuid": "6938d97a-6457-41b7-bb24-1640020cc8bd",
     "typedWidgetInfo": {
      "autoCreated": false,
      "defaultValue": "",
      "label": "Enter the environment in lower case",
      "name": "env",
      "options": {
       "widgetDisplayType": "Text",
       "validationRegex": null
      },
      "parameterDataType": "String"
     },
     "widgetInfo": {
      "widgetType": "text",
      "defaultValue": "",
      "label": "Enter the environment in lower case",
      "name": "env",
      "options": {
       "widgetType": "text",
       "autoCreated": null,
       "validationRegex": null
      }
     }
    }
   }
  },
  "language_info": {
   "name": "python"
  }
 },
 "nbformat": 4,
 "nbformat_minor": 0
}
